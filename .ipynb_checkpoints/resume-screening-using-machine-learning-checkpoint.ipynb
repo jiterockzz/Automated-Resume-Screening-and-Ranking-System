{
 "cells": [
  {
   "cell_type": "markdown",
   "metadata": {},
   "source": [
    "![1](data:image/jpeg;base64,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)"
   ]
  },
  {
   "cell_type": "markdown",
   "metadata": {},
   "source": [
    "Companies often receive thousands of resumes for each job posting and employ dedicated screening officers to screen qualified candidates.\n",
    "\n",
    "Hiring the right talent is a challenge for all businesses. This challenge is magnified by the high volume of applicants if the business is labour-intensive, growing, and facing high attrition rates.\n",
    "\n",
    "\n",
    "IT departments are short of growing markets. In a typical service organization, professionals with a variety of technical skills and business domain expertise are hired and assigned to projects to resolve customer issues. This task of selecting the best talent among many others is known as Resume Screening.\n",
    "\n",
    "Typically, large companies do not have enough time to open each CV, so they use machine learning algorithms for the Resume Screening task."
   ]
  },
  {
   "cell_type": "code",
   "execution_count": null,
   "metadata": {
    "execution": {
     "iopub.execute_input": "2024-07-29T02:08:11.488221Z",
     "iopub.status.busy": "2024-07-29T02:08:11.487745Z",
     "iopub.status.idle": "2024-07-29T02:08:12.99683Z",
     "shell.execute_reply": "2024-07-29T02:08:12.995646Z",
     "shell.execute_reply.started": "2024-07-29T02:08:11.488122Z"
    }
   },
   "outputs": [],
   "source": [
    "import numpy as np\n",
    "import pandas as pd\n",
    "import matplotlib.pyplot as plt\n",
    "import warnings\n",
    "warnings.filterwarnings('ignore')\n",
    "from sklearn.naive_bayes import MultinomialNB\n",
    "from sklearn.multiclass import OneVsRestClassifier\n",
    "from sklearn import metrics\n",
    "from sklearn.metrics import accuracy_score\n",
    "from pandas.plotting import scatter_matrix\n",
    "from sklearn.neighbors import KNeighborsClassifier\n",
    "from sklearn import metrics\n",
    "\n",
    "resumeDataSet = pd.read_csv('../input/resume-dataset/UpdatedResumeDataSet.csv' ,encoding='utf-8')\n",
    "resumeDataSet['cleaned_resume'] = ''\n",
    "resumeDataSet.head()"
   ]
  },
  {
   "cell_type": "code",
   "execution_count": null,
   "metadata": {
    "execution": {
     "iopub.execute_input": "2024-07-29T02:08:12.999391Z",
     "iopub.status.busy": "2024-07-29T02:08:12.999067Z",
     "iopub.status.idle": "2024-07-29T02:08:13.019768Z",
     "shell.execute_reply": "2024-07-29T02:08:13.018699Z",
     "shell.execute_reply.started": "2024-07-29T02:08:12.99936Z"
    }
   },
   "outputs": [],
   "source": [
    "resumeDataSet.info()"
   ]
  },
  {
   "cell_type": "code",
   "execution_count": null,
   "metadata": {
    "execution": {
     "iopub.execute_input": "2024-07-29T02:08:13.022055Z",
     "iopub.status.busy": "2024-07-29T02:08:13.021377Z",
     "iopub.status.idle": "2024-07-29T02:08:13.039324Z",
     "shell.execute_reply": "2024-07-29T02:08:13.037862Z",
     "shell.execute_reply.started": "2024-07-29T02:08:13.021998Z"
    }
   },
   "outputs": [],
   "source": [
    "print (\"Displaying the distinct categories of resume:\\n\\n \")\n",
    "print (resumeDataSet['Category'].unique())"
   ]
  },
  {
   "cell_type": "code",
   "execution_count": null,
   "metadata": {
    "execution": {
     "iopub.execute_input": "2024-07-29T02:08:13.04188Z",
     "iopub.status.busy": "2024-07-29T02:08:13.04135Z",
     "iopub.status.idle": "2024-07-29T02:08:13.055398Z",
     "shell.execute_reply": "2024-07-29T02:08:13.054423Z",
     "shell.execute_reply.started": "2024-07-29T02:08:13.041828Z"
    }
   },
   "outputs": [],
   "source": [
    "print (\"Displaying the distinct categories of resume and the number of records belonging to each category:\\n\\n\")\n",
    "print (resumeDataSet['Category'].value_counts())"
   ]
  },
  {
   "cell_type": "code",
   "execution_count": null,
   "metadata": {
    "execution": {
     "iopub.execute_input": "2024-07-29T02:08:13.061164Z",
     "iopub.status.busy": "2024-07-29T02:08:13.060764Z",
     "iopub.status.idle": "2024-07-29T02:08:13.890682Z",
     "shell.execute_reply": "2024-07-29T02:08:13.889318Z",
     "shell.execute_reply.started": "2024-07-29T02:08:13.061126Z"
    }
   },
   "outputs": [],
   "source": [
    "import seaborn as sns\n",
    "plt.figure(figsize=(20,5))\n",
    "plt.xticks(rotation=90)\n",
    "ax=sns.countplot(x=\"Category\", data=resumeDataSet)\n",
    "for p in ax.patches:\n",
    "    ax.annotate(str(p.get_height()), (p.get_x() * 1.01 , p.get_height() * 1.01))\n",
    "plt.grid()"
   ]
  },
  {
   "cell_type": "code",
   "execution_count": null,
   "metadata": {
    "execution": {
     "iopub.execute_input": "2024-07-29T02:08:13.893176Z",
     "iopub.status.busy": "2024-07-29T02:08:13.892818Z",
     "iopub.status.idle": "2024-07-29T02:08:14.622005Z",
     "shell.execute_reply": "2024-07-29T02:08:14.620708Z",
     "shell.execute_reply.started": "2024-07-29T02:08:13.89314Z"
    }
   },
   "outputs": [],
   "source": [
    "from matplotlib.gridspec import GridSpec\n",
    "targetCounts = resumeDataSet['Category'].value_counts()\n",
    "targetLabels  = resumeDataSet['Category'].unique()\n",
    "# Make square figures and axes\n",
    "plt.figure(1, figsize=(22,22))\n",
    "the_grid = GridSpec(2, 2)\n",
    "\n",
    "\n",
    "cmap = plt.get_cmap('coolwarm')\n",
    "plt.subplot(the_grid[0, 1], aspect=1, title='CATEGORY DISTRIBUTION')\n",
    "\n",
    "source_pie = plt.pie(targetCounts, labels=targetLabels, autopct='%1.1f%%', shadow=True)\n",
    "plt.show()"
   ]
  },
  {
   "cell_type": "code",
   "execution_count": null,
   "metadata": {
    "execution": {
     "iopub.execute_input": "2024-07-29T02:11:13.941082Z",
     "iopub.status.busy": "2024-07-29T02:11:13.940596Z",
     "iopub.status.idle": "2024-07-29T02:11:13.956058Z",
     "shell.execute_reply": "2024-07-29T02:11:13.954809Z",
     "shell.execute_reply.started": "2024-07-29T02:11:13.941042Z"
    }
   },
   "outputs": [],
   "source": [
    "resumeDataSet.duplicated(subset=['Resume']).value_counts()"
   ]
  },
  {
   "cell_type": "code",
   "execution_count": null,
   "metadata": {
    "execution": {
     "iopub.execute_input": "2024-07-29T02:10:07.492522Z",
     "iopub.status.busy": "2024-07-29T02:10:07.492108Z",
     "iopub.status.idle": "2024-07-29T02:10:07.535739Z",
     "shell.execute_reply": "2024-07-29T02:10:07.534417Z",
     "shell.execute_reply.started": "2024-07-29T02:10:07.492485Z"
    }
   },
   "outputs": [],
   "source": [
    "resumeDataSet[resumeDataSet.duplicated()==True]"
   ]
  },
  {
   "cell_type": "code",
   "execution_count": null,
   "metadata": {
    "execution": {
     "iopub.execute_input": "2024-07-29T02:14:51.897477Z",
     "iopub.status.busy": "2024-07-29T02:14:51.897007Z",
     "iopub.status.idle": "2024-07-29T02:14:51.904759Z",
     "shell.execute_reply": "2024-07-29T02:14:51.90377Z",
     "shell.execute_reply.started": "2024-07-29T02:14:51.897428Z"
    }
   },
   "outputs": [],
   "source": [
    "resumeDataSet.iloc[10]['Resume']"
   ]
  },
  {
   "cell_type": "code",
   "execution_count": null,
   "metadata": {
    "execution": {
     "iopub.execute_input": "2024-07-29T02:15:59.504124Z",
     "iopub.status.busy": "2024-07-29T02:15:59.503622Z",
     "iopub.status.idle": "2024-07-29T02:15:59.521058Z",
     "shell.execute_reply": "2024-07-29T02:15:59.519689Z",
     "shell.execute_reply.started": "2024-07-29T02:15:59.504075Z"
    }
   },
   "outputs": [],
   "source": [
    "resumeDataSet[resumeDataSet['Resume']=='Skills * Programming Languages: Python (pandas, numpy, scipy, scikit-learn, matplotlib), Sql, Java, JavaScript/JQuery. * Machine learning: Regression, SVM, NaÃ¯ve Bayes, KNN, Random Forest, Decision Trees, Boosting techniques, Cluster Analysis, Word Embedding, Sentiment Analysis, Natural Language processing, Dimensionality reduction, Topic Modelling (LDA, NMF), PCA & Neural Nets. * Database Visualizations: Mysql, SqlServer, Cassandra, Hbase, ElasticSearch D3.js, DC.js, Plotly, kibana, matplotlib, ggplot, Tableau. * Others: Regular Expression, HTML, CSS, Angular 6, Logstash, Kafka, Python Flask, Git, Docker, computer vision - Open CV and understanding of Deep learning.Education Details \\r\\n\\r\\nData Science Assurance Associate \\r\\n\\r\\nData Science Assurance Associate - Ernst & Young LLP\\r\\nSkill Details \\r\\nJAVASCRIPT- Exprience - 24 months\\r\\njQuery- Exprience - 24 months\\r\\nPython- Exprience - 24 monthsCompany Details \\r\\ncompany - Ernst & Young LLP\\r\\ndescription - Fraud Investigations and Dispute Services   Assurance\\r\\nTECHNOLOGY ASSISTED REVIEW\\r\\nTAR (Technology Assisted Review) assists in accelerating the review process and run analytics and generate reports.\\r\\n* Core member of a team helped in developing automated review platform tool from scratch for assisting E discovery domain, this tool implements predictive coding and topic modelling by automating reviews, resulting in reduced labor costs and time spent during the lawyers review.\\r\\n* Understand the end to end flow of the solution, doing research and development for classification models, predictive analysis and mining of the information present in text data. Worked on analyzing the outputs and precision monitoring for the entire tool.\\r\\n* TAR assists in predictive coding, topic modelling from the evidence by following EY standards. Developed the classifier models in order to identify \"red flags\" and fraud-related issues.\\r\\n\\r\\nTools & Technologies: Python, scikit-learn, tfidf, word2vec, doc2vec, cosine similarity, NaÃ¯ve Bayes, LDA, NMF for topic modelling, Vader and text blob for sentiment analysis. Matplot lib, Tableau dashboard for reporting.\\r\\n\\r\\nMULTIPLE DATA SCIENCE AND ANALYTIC PROJECTS (USA CLIENTS)\\r\\nTEXT ANALYTICS - MOTOR VEHICLE CUSTOMER REVIEW DATA * Received customer feedback survey data for past one year. Performed sentiment (Positive, Negative & Neutral) and time series analysis on customer comments across all 4 categories.\\r\\n* Created heat map of terms by survey category based on frequency of words * Extracted Positive and Negative words across all the Survey categories and plotted Word cloud.\\r\\n* Created customized tableau dashboards for effective reporting and visualizations.\\r\\nCHATBOT * Developed a user friendly chatbot for one of our Products which handle simple questions about hours of operation, reservation options and so on.\\r\\n* This chat bot serves entire product related questions. Giving overview of tool via QA platform and also give recommendation responses so that user question to build chain of relevant answer.\\r\\n* This too has intelligence to build the pipeline of questions as per user requirement and asks the relevant /recommended questions.\\r\\n\\r\\nTools & Technologies: Python, Natural language processing, NLTK, spacy, topic modelling, Sentiment analysis, Word Embedding, scikit-learn, JavaScript/JQuery, SqlServer\\r\\n\\r\\nINFORMATION GOVERNANCE\\r\\nOrganizations to make informed decisions about all of the information they store. The integrated Information Governance portfolio synthesizes intelligence across unstructured data sources and facilitates action to ensure organizations are best positioned to counter information risk.\\r\\n* Scan data from multiple sources of formats and parse different file formats, extract Meta data information, push results for indexing elastic search and created customized, interactive dashboards using kibana.\\r\\n* Preforming ROT Analysis on the data which give information of data which helps identify content that is either Redundant, Outdated, or Trivial.\\r\\n* Preforming full-text search analysis on elastic search with predefined methods which can tag as (PII) personally identifiable information (social security numbers, addresses, names, etc.) which frequently targeted during cyber-attacks.\\r\\nTools & Technologies: Python, Flask, Elastic Search, Kibana\\r\\n\\r\\nFRAUD ANALYTIC PLATFORM\\r\\nFraud Analytics and investigative platform to review all red flag cases.\\r\\nâ\\x80¢ FAP is a Fraud Analytics and investigative platform with inbuilt case manager and suite of Analytics for various ERP systems.\\r\\n* It can be used by clients to interrogate their Accounting systems for identifying the anomalies which can be indicators of fraud by running advanced analytics\\r\\nTools & Technologies: HTML, JavaScript, SqlServer, JQuery, CSS, Bootstrap, Node.js, D3.js, DC.js']"
   ]
  },
  {
   "cell_type": "code",
   "execution_count": null,
   "metadata": {
    "execution": {
     "iopub.execute_input": "2024-07-29T02:17:56.685815Z",
     "iopub.status.busy": "2024-07-29T02:17:56.685363Z",
     "iopub.status.idle": "2024-07-29T02:17:56.704742Z",
     "shell.execute_reply": "2024-07-29T02:17:56.703589Z",
     "shell.execute_reply.started": "2024-07-29T02:17:56.685777Z"
    }
   },
   "outputs": [],
   "source": [
    "resumeDataSet.drop_duplicates(subset=['Resume'], keep='first',inplace = True)\n",
    "resumeDataSet.reset_index(inplace=True,drop=True)\n",
    "resumeDataSet.head()"
   ]
  },
  {
   "cell_type": "code",
   "execution_count": null,
   "metadata": {
    "execution": {
     "iopub.execute_input": "2024-07-29T02:18:10.339724Z",
     "iopub.status.busy": "2024-07-29T02:18:10.339216Z",
     "iopub.status.idle": "2024-07-29T02:18:10.355377Z",
     "shell.execute_reply": "2024-07-29T02:18:10.354008Z",
     "shell.execute_reply.started": "2024-07-29T02:18:10.339615Z"
    }
   },
   "outputs": [],
   "source": [
    "resumeDataSet.info()"
   ]
  },
  {
   "cell_type": "code",
   "execution_count": null,
   "metadata": {
    "execution": {
     "iopub.execute_input": "2024-07-29T02:18:20.845759Z",
     "iopub.status.busy": "2024-07-29T02:18:20.845291Z",
     "iopub.status.idle": "2024-07-29T02:18:20.946914Z",
     "shell.execute_reply": "2024-07-29T02:18:20.94584Z",
     "shell.execute_reply.started": "2024-07-29T02:18:20.845716Z"
    }
   },
   "outputs": [],
   "source": [
    "import re\n",
    "def cleanResume(resumeText):\n",
    "    resumeText = re.sub('http\\S+\\s*', ' ', resumeText)  # remove URLs\n",
    "    resumeText = re.sub('RT|cc', ' ', resumeText)  # remove RT and cc\n",
    "    resumeText = re.sub('#\\S+', '', resumeText)  # remove hashtags\n",
    "    resumeText = re.sub('@\\S+', '  ', resumeText)  # remove mentions\n",
    "    resumeText = re.sub('[%s]' % re.escape(\"\"\"!\"#$%&'()*+,-./:;<=>?@[\\]^_`{|}~\"\"\"), ' ', resumeText)  # remove punctuations\n",
    "    resumeText = re.sub(r'[^\\x00-\\x7f]',r' ', resumeText) \n",
    "    resumeText = re.sub('\\s+', ' ', resumeText)  # remove extra whitespace\n",
    "    return resumeText\n",
    "    \n",
    "resumeDataSet['cleaned_resume'] = resumeDataSet.Resume.apply(lambda x: cleanResume(x))"
   ]
  },
  {
   "cell_type": "code",
   "execution_count": null,
   "metadata": {
    "execution": {
     "iopub.execute_input": "2024-07-29T02:18:20.949636Z",
     "iopub.status.busy": "2024-07-29T02:18:20.949265Z",
     "iopub.status.idle": "2024-07-29T02:18:20.962342Z",
     "shell.execute_reply": "2024-07-29T02:18:20.961365Z",
     "shell.execute_reply.started": "2024-07-29T02:18:20.949593Z"
    }
   },
   "outputs": [],
   "source": [
    "resumeDataSet.head()"
   ]
  },
  {
   "cell_type": "code",
   "execution_count": null,
   "metadata": {
    "execution": {
     "iopub.execute_input": "2024-07-29T02:18:20.964293Z",
     "iopub.status.busy": "2024-07-29T02:18:20.963917Z",
     "iopub.status.idle": "2024-07-29T02:18:20.973755Z",
     "shell.execute_reply": "2024-07-29T02:18:20.972469Z",
     "shell.execute_reply.started": "2024-07-29T02:18:20.964255Z"
    }
   },
   "outputs": [],
   "source": [
    "resumeDataSet_d=resumeDataSet.copy()"
   ]
  },
  {
   "cell_type": "code",
   "execution_count": null,
   "metadata": {
    "execution": {
     "iopub.execute_input": "2024-07-29T02:18:20.975827Z",
     "iopub.status.busy": "2024-07-29T02:18:20.975214Z",
     "iopub.status.idle": "2024-07-29T02:18:22.619798Z",
     "shell.execute_reply": "2024-07-29T02:18:22.618547Z",
     "shell.execute_reply.started": "2024-07-29T02:18:20.975785Z"
    }
   },
   "outputs": [],
   "source": [
    "import nltk\n",
    "from nltk.corpus import stopwords\n",
    "import string\n",
    "from wordcloud import WordCloud\n",
    "\n",
    "oneSetOfStopWords = set(stopwords.words('english')+['``',\"''\"])\n",
    "totalWords =[]\n",
    "Sentences = resumeDataSet['Resume'].values\n",
    "cleanedSentences = \"\"\n",
    "for records in Sentences:\n",
    "    cleanedText = cleanResume(records)\n",
    "    cleanedSentences += cleanedText\n",
    "    requiredWords = nltk.word_tokenize(cleanedText)\n",
    "    for word in requiredWords:\n",
    "        if word not in oneSetOfStopWords and word not in string.punctuation:\n",
    "            totalWords.append(word)\n",
    "    \n",
    "wordfreqdist = nltk.FreqDist(totalWords)\n",
    "mostcommon = wordfreqdist.most_common(50)\n",
    "print(mostcommon)\n",
    "\n"
   ]
  },
  {
   "cell_type": "code",
   "execution_count": null,
   "metadata": {
    "execution": {
     "iopub.execute_input": "2024-07-29T02:18:22.623015Z",
     "iopub.status.busy": "2024-07-29T02:18:22.62262Z",
     "iopub.status.idle": "2024-07-29T02:18:23.761981Z",
     "shell.execute_reply": "2024-07-29T02:18:23.760448Z",
     "shell.execute_reply.started": "2024-07-29T02:18:22.622977Z"
    }
   },
   "outputs": [],
   "source": [
    "wc = WordCloud().generate(cleanedSentences)\n",
    "plt.figure(figsize=(10,10))\n",
    "plt.imshow(wc, interpolation='bilinear')\n",
    "plt.axis(\"off\")\n",
    "plt.show()"
   ]
  },
  {
   "cell_type": "code",
   "execution_count": null,
   "metadata": {
    "execution": {
     "iopub.execute_input": "2024-07-29T02:18:23.764809Z",
     "iopub.status.busy": "2024-07-29T02:18:23.76417Z",
     "iopub.status.idle": "2024-07-29T02:18:23.773705Z",
     "shell.execute_reply": "2024-07-29T02:18:23.772323Z",
     "shell.execute_reply.started": "2024-07-29T02:18:23.764754Z"
    }
   },
   "outputs": [],
   "source": [
    "from sklearn.preprocessing import LabelEncoder\n",
    "\n",
    "var_mod = ['Category']\n",
    "le = LabelEncoder()\n",
    "for i in var_mod:\n",
    "    resumeDataSet[i] = le.fit_transform(resumeDataSet[i])"
   ]
  },
  {
   "cell_type": "code",
   "execution_count": null,
   "metadata": {
    "execution": {
     "iopub.execute_input": "2024-07-29T02:18:23.776557Z",
     "iopub.status.busy": "2024-07-29T02:18:23.776053Z",
     "iopub.status.idle": "2024-07-29T02:18:23.797202Z",
     "shell.execute_reply": "2024-07-29T02:18:23.795797Z",
     "shell.execute_reply.started": "2024-07-29T02:18:23.776504Z"
    }
   },
   "outputs": [],
   "source": [
    "resumeDataSet.head()"
   ]
  },
  {
   "cell_type": "code",
   "execution_count": null,
   "metadata": {
    "execution": {
     "iopub.execute_input": "2024-07-29T02:18:23.799619Z",
     "iopub.status.busy": "2024-07-29T02:18:23.799112Z",
     "iopub.status.idle": "2024-07-29T02:18:23.81596Z",
     "shell.execute_reply": "2024-07-29T02:18:23.814775Z",
     "shell.execute_reply.started": "2024-07-29T02:18:23.799564Z"
    }
   },
   "outputs": [],
   "source": [
    "resumeDataSet.Category.value_counts()"
   ]
  },
  {
   "cell_type": "code",
   "execution_count": null,
   "metadata": {
    "execution": {
     "iopub.execute_input": "2024-07-29T02:18:23.818297Z",
     "iopub.status.busy": "2024-07-29T02:18:23.817837Z",
     "iopub.status.idle": "2024-07-29T02:18:23.840156Z",
     "shell.execute_reply": "2024-07-29T02:18:23.838194Z",
     "shell.execute_reply.started": "2024-07-29T02:18:23.818246Z"
    }
   },
   "outputs": [],
   "source": [
    "resumeDataSet_d.Category.value_counts() #understanding decode LabelEncoder"
   ]
  },
  {
   "cell_type": "code",
   "execution_count": null,
   "metadata": {
    "execution": {
     "iopub.execute_input": "2024-07-29T02:18:23.842456Z",
     "iopub.status.busy": "2024-07-29T02:18:23.841919Z",
     "iopub.status.idle": "2024-07-29T02:18:23.854801Z",
     "shell.execute_reply": "2024-07-29T02:18:23.853594Z",
     "shell.execute_reply.started": "2024-07-29T02:18:23.842401Z"
    }
   },
   "outputs": [],
   "source": [
    "del resumeDataSet_d #clearing the space occupied "
   ]
  },
  {
   "cell_type": "code",
   "execution_count": null,
   "metadata": {
    "execution": {
     "iopub.execute_input": "2024-07-29T02:18:23.85729Z",
     "iopub.status.busy": "2024-07-29T02:18:23.856805Z",
     "iopub.status.idle": "2024-07-29T02:18:24.084287Z",
     "shell.execute_reply": "2024-07-29T02:18:24.083111Z",
     "shell.execute_reply.started": "2024-07-29T02:18:23.857237Z"
    }
   },
   "outputs": [],
   "source": [
    "from sklearn.model_selection import train_test_split\n",
    "from sklearn.feature_extraction.text import TfidfVectorizer\n",
    "from scipy.sparse import hstack\n",
    "\n",
    "requiredText = resumeDataSet['cleaned_resume'].values\n",
    "requiredTarget = resumeDataSet['Category'].values\n",
    "\n",
    "word_vectorizer = TfidfVectorizer(\n",
    "    sublinear_tf=True,\n",
    "    stop_words='english')\n",
    "word_vectorizer.fit(requiredText)\n",
    "WordFeatures = word_vectorizer.transform(requiredText)\n",
    "\n",
    "print (\"Feature completed .....\")\n",
    "\n",
    "X_train,X_test,y_train,y_test = train_test_split(WordFeatures,requiredTarget,random_state=42, test_size=0.2,\n",
    "                                                 shuffle=True, stratify=requiredTarget)\n",
    "print(X_train.shape)\n",
    "print(X_test.shape)"
   ]
  },
  {
   "cell_type": "code",
   "execution_count": null,
   "metadata": {
    "execution": {
     "iopub.execute_input": "2024-07-29T02:18:24.086155Z",
     "iopub.status.busy": "2024-07-29T02:18:24.085813Z",
     "iopub.status.idle": "2024-07-29T02:18:24.375595Z",
     "shell.execute_reply": "2024-07-29T02:18:24.374595Z",
     "shell.execute_reply.started": "2024-07-29T02:18:24.086122Z"
    }
   },
   "outputs": [],
   "source": [
    "clf = OneVsRestClassifier(KNeighborsClassifier())\n",
    "clf.fit(X_train, y_train)\n",
    "prediction = clf.predict(X_test)\n",
    "print('Accuracy of KNeighbors Classifier on training set: {:.2f}'.format(clf.score(X_train, y_train)))\n",
    "print('Accuracy of KNeighbors Classifier on test set:     {:.2f}'.format(clf.score(X_test, y_test)))\n",
    "\n"
   ]
  },
  {
   "cell_type": "code",
   "execution_count": null,
   "metadata": {
    "execution": {
     "iopub.execute_input": "2024-07-29T02:19:41.751088Z",
     "iopub.status.busy": "2024-07-29T02:19:41.750681Z",
     "iopub.status.idle": "2024-07-29T02:19:41.887549Z",
     "shell.execute_reply": "2024-07-29T02:19:41.886544Z",
     "shell.execute_reply.started": "2024-07-29T02:19:41.751054Z"
    }
   },
   "outputs": [],
   "source": [
    "print(\"\\n Classification report for classifier %s:\\n%s\\n\" % (clf, metrics.classification_report(y_train, clf.predict(X_train))))"
   ]
  },
  {
   "cell_type": "code",
   "execution_count": null,
   "metadata": {
    "execution": {
     "iopub.execute_input": "2024-07-29T02:18:24.377959Z",
     "iopub.status.busy": "2024-07-29T02:18:24.377565Z",
     "iopub.status.idle": "2024-07-29T02:18:24.396451Z",
     "shell.execute_reply": "2024-07-29T02:18:24.395287Z",
     "shell.execute_reply.started": "2024-07-29T02:18:24.377922Z"
    }
   },
   "outputs": [],
   "source": [
    "print(\"\\n Classification report for classifier %s:\\n%s\\n\" % (clf, metrics.classification_report(y_test, prediction)))"
   ]
  }
 ],
 "metadata": {
  "kaggle": {
   "accelerator": "none",
   "dataSources": [
    {
     "datasetId": 1177531,
     "sourceId": 1971405,
     "sourceType": "datasetVersion"
    }
   ],
   "dockerImageVersionId": 30066,
   "isGpuEnabled": false,
   "isInternetEnabled": true,
   "language": "python",
   "sourceType": "notebook"
  },
  "kernelspec": {
   "display_name": "Python 3",
   "language": "python",
   "name": "python3"
  },
  "language_info": {
   "codemirror_mode": {
    "name": "ipython",
    "version": 3
   },
   "file_extension": ".py",
   "mimetype": "text/x-python",
   "name": "python",
   "nbconvert_exporter": "python",
   "pygments_lexer": "ipython3",
   "version": "3.7.9"
  }
 },
 "nbformat": 4,
 "nbformat_minor": 4
}
